{
 "cells": [
  {
   "cell_type": "markdown",
   "metadata": {},
   "source": [
    "## Modelagem para Prevenção a Fraudes\n",
    "<ul>\n",
    "<li><b>Autor.:</b> Gabriel Nunes Henke</li>\n",
    "<li><b>Programa:</b> PPGCC - Pós-Graduação em Ciência da Computação</li> \n",
    "<li><b>Disciplina:</b> Banco de Dados</li>\n",
    "<li><b>Programa:</b> Ronaldo Correa</li>\n",
    "<li><b>Data:</b> 08/06/2022</li>\n",
    "</ul>\n"
   ]
  },
  {
   "cell_type": "code",
   "execution_count": 143,
   "metadata": {},
   "outputs": [],
   "source": [
    "import pandas as pd\n",
    "import numpy as np\n",
    "import matplotlib.pyplot as plt\n",
    "import seaborn as sns\n",
    "import pickle\n",
    "from datetime import datetime\n",
    "from sklearn.preprocessing import LabelEncoder, StandardScaler\n",
    "from imblearn.over_sampling import SMOTE \n",
    "from sklearn.model_selection import train_test_split, GridSearchCV\n",
    "from sklearn.ensemble import RandomForestClassifier\n",
    "from sklearn.tree import DecisionTreeClassifier\n",
    "from sklearn.neighbors import KNeighborsClassifier\n",
    "from sklearn.naive_bayes import GaussianNB\n",
    "from sklearn.linear_model import LogisticRegression\n",
    "from sklearn import metrics\n",
    "from sklearn.feature_selection import RFECV\n"
   ]
  },
  {
   "cell_type": "markdown",
   "metadata": {},
   "source": [
    "### 1.0 Leitura do dataset"
   ]
  },
  {
   "cell_type": "code",
   "execution_count": 106,
   "metadata": {},
   "outputs": [],
   "source": [
    "df = pd.read_csv(\"../data/dataset_online_fraud_detection_2.csv\")\n",
    "df = df.drop('Unnamed: 0', axis =1)"
   ]
  },
  {
   "cell_type": "code",
   "execution_count": 107,
   "metadata": {},
   "outputs": [],
   "source": [
    "# df1 = df.loc[(df['isFraud'] !=1)].head(300000)\n",
    "# df2 = df.loc[(df['isFraud'] == 1)]\n",
    "\n",
    "# df3 = pd.concat([df1, df2])\n",
    "\n",
    "# df3.to_csv('../data/dataset_online_fraud_detection_2.csv')"
   ]
  },
  {
   "cell_type": "code",
   "execution_count": 108,
   "metadata": {},
   "outputs": [
    {
     "data": {
      "text/html": [
       "<div>\n",
       "<style scoped>\n",
       "    .dataframe tbody tr th:only-of-type {\n",
       "        vertical-align: middle;\n",
       "    }\n",
       "\n",
       "    .dataframe tbody tr th {\n",
       "        vertical-align: top;\n",
       "    }\n",
       "\n",
       "    .dataframe thead th {\n",
       "        text-align: right;\n",
       "    }\n",
       "</style>\n",
       "<table border=\"1\" class=\"dataframe\">\n",
       "  <thead>\n",
       "    <tr style=\"text-align: right;\">\n",
       "      <th></th>\n",
       "      <th>step</th>\n",
       "      <th>type</th>\n",
       "      <th>amount</th>\n",
       "      <th>nameOrig</th>\n",
       "      <th>oldbalanceOrg</th>\n",
       "      <th>newbalanceOrig</th>\n",
       "      <th>nameDest</th>\n",
       "      <th>oldbalanceDest</th>\n",
       "      <th>newbalanceDest</th>\n",
       "      <th>isFraud</th>\n",
       "      <th>isFlaggedFraud</th>\n",
       "    </tr>\n",
       "  </thead>\n",
       "  <tbody>\n",
       "    <tr>\n",
       "      <th>0</th>\n",
       "      <td>1</td>\n",
       "      <td>PAYMENT</td>\n",
       "      <td>9839.64</td>\n",
       "      <td>C1231006815</td>\n",
       "      <td>170136.0</td>\n",
       "      <td>160296.36</td>\n",
       "      <td>M1979787155</td>\n",
       "      <td>0.0</td>\n",
       "      <td>0.0</td>\n",
       "      <td>0</td>\n",
       "      <td>0</td>\n",
       "    </tr>\n",
       "    <tr>\n",
       "      <th>1</th>\n",
       "      <td>1</td>\n",
       "      <td>PAYMENT</td>\n",
       "      <td>1864.28</td>\n",
       "      <td>C1666544295</td>\n",
       "      <td>21249.0</td>\n",
       "      <td>19384.72</td>\n",
       "      <td>M2044282225</td>\n",
       "      <td>0.0</td>\n",
       "      <td>0.0</td>\n",
       "      <td>0</td>\n",
       "      <td>0</td>\n",
       "    </tr>\n",
       "    <tr>\n",
       "      <th>2</th>\n",
       "      <td>1</td>\n",
       "      <td>PAYMENT</td>\n",
       "      <td>11668.14</td>\n",
       "      <td>C2048537720</td>\n",
       "      <td>41554.0</td>\n",
       "      <td>29885.86</td>\n",
       "      <td>M1230701703</td>\n",
       "      <td>0.0</td>\n",
       "      <td>0.0</td>\n",
       "      <td>0</td>\n",
       "      <td>0</td>\n",
       "    </tr>\n",
       "    <tr>\n",
       "      <th>3</th>\n",
       "      <td>1</td>\n",
       "      <td>PAYMENT</td>\n",
       "      <td>7817.71</td>\n",
       "      <td>C90045638</td>\n",
       "      <td>53860.0</td>\n",
       "      <td>46042.29</td>\n",
       "      <td>M573487274</td>\n",
       "      <td>0.0</td>\n",
       "      <td>0.0</td>\n",
       "      <td>0</td>\n",
       "      <td>0</td>\n",
       "    </tr>\n",
       "    <tr>\n",
       "      <th>4</th>\n",
       "      <td>1</td>\n",
       "      <td>PAYMENT</td>\n",
       "      <td>7107.77</td>\n",
       "      <td>C154988899</td>\n",
       "      <td>183195.0</td>\n",
       "      <td>176087.23</td>\n",
       "      <td>M408069119</td>\n",
       "      <td>0.0</td>\n",
       "      <td>0.0</td>\n",
       "      <td>0</td>\n",
       "      <td>0</td>\n",
       "    </tr>\n",
       "  </tbody>\n",
       "</table>\n",
       "</div>"
      ],
      "text/plain": [
       "   step     type    amount     nameOrig  oldbalanceOrg  newbalanceOrig  \\\n",
       "0     1  PAYMENT   9839.64  C1231006815       170136.0       160296.36   \n",
       "1     1  PAYMENT   1864.28  C1666544295        21249.0        19384.72   \n",
       "2     1  PAYMENT  11668.14  C2048537720        41554.0        29885.86   \n",
       "3     1  PAYMENT   7817.71    C90045638        53860.0        46042.29   \n",
       "4     1  PAYMENT   7107.77   C154988899       183195.0       176087.23   \n",
       "\n",
       "      nameDest  oldbalanceDest  newbalanceDest  isFraud  isFlaggedFraud  \n",
       "0  M1979787155             0.0             0.0        0               0  \n",
       "1  M2044282225             0.0             0.0        0               0  \n",
       "2  M1230701703             0.0             0.0        0               0  \n",
       "3   M573487274             0.0             0.0        0               0  \n",
       "4   M408069119             0.0             0.0        0               0  "
      ]
     },
     "execution_count": 108,
     "metadata": {},
     "output_type": "execute_result"
    }
   ],
   "source": [
    "df.head()"
   ]
  },
  {
   "cell_type": "code",
   "execution_count": null,
   "metadata": {},
   "outputs": [],
   "source": []
  },
  {
   "cell_type": "markdown",
   "metadata": {},
   "source": [
    "### 2.0 Análise e Exploração dos Dados"
   ]
  },
  {
   "cell_type": "code",
   "execution_count": 109,
   "metadata": {},
   "outputs": [
    {
     "data": {
      "text/html": [
       "<div>\n",
       "<style scoped>\n",
       "    .dataframe tbody tr th:only-of-type {\n",
       "        vertical-align: middle;\n",
       "    }\n",
       "\n",
       "    .dataframe tbody tr th {\n",
       "        vertical-align: top;\n",
       "    }\n",
       "\n",
       "    .dataframe thead th {\n",
       "        text-align: right;\n",
       "    }\n",
       "</style>\n",
       "<table border=\"1\" class=\"dataframe\">\n",
       "  <thead>\n",
       "    <tr style=\"text-align: right;\">\n",
       "      <th></th>\n",
       "      <th>step</th>\n",
       "      <th>amount</th>\n",
       "      <th>oldbalanceOrg</th>\n",
       "      <th>newbalanceOrig</th>\n",
       "      <th>oldbalanceDest</th>\n",
       "      <th>newbalanceDest</th>\n",
       "      <th>isFraud</th>\n",
       "      <th>isFlaggedFraud</th>\n",
       "    </tr>\n",
       "  </thead>\n",
       "  <tbody>\n",
       "    <tr>\n",
       "      <th>count</th>\n",
       "      <td>308213.0</td>\n",
       "      <td>308213.0</td>\n",
       "      <td>308213.0</td>\n",
       "      <td>308213.0</td>\n",
       "      <td>308213.0</td>\n",
       "      <td>308213.0</td>\n",
       "      <td>308213.0</td>\n",
       "      <td>308213.0</td>\n",
       "    </tr>\n",
       "    <tr>\n",
       "      <th>mean</th>\n",
       "      <td>21.0</td>\n",
       "      <td>210286.0</td>\n",
       "      <td>905867.0</td>\n",
       "      <td>885678.0</td>\n",
       "      <td>966479.0</td>\n",
       "      <td>1199288.0</td>\n",
       "      <td>0.0</td>\n",
       "      <td>0.0</td>\n",
       "    </tr>\n",
       "    <tr>\n",
       "      <th>std</th>\n",
       "      <td>68.0</td>\n",
       "      <td>533240.0</td>\n",
       "      <td>2873460.0</td>\n",
       "      <td>2869250.0</td>\n",
       "      <td>2402137.0</td>\n",
       "      <td>2638063.0</td>\n",
       "      <td>0.0</td>\n",
       "      <td>0.0</td>\n",
       "    </tr>\n",
       "    <tr>\n",
       "      <th>min</th>\n",
       "      <td>1.0</td>\n",
       "      <td>0.0</td>\n",
       "      <td>0.0</td>\n",
       "      <td>0.0</td>\n",
       "      <td>0.0</td>\n",
       "      <td>0.0</td>\n",
       "      <td>0.0</td>\n",
       "      <td>0.0</td>\n",
       "    </tr>\n",
       "    <tr>\n",
       "      <th>25%</th>\n",
       "      <td>10.0</td>\n",
       "      <td>13172.0</td>\n",
       "      <td>0.0</td>\n",
       "      <td>0.0</td>\n",
       "      <td>0.0</td>\n",
       "      <td>0.0</td>\n",
       "      <td>0.0</td>\n",
       "      <td>0.0</td>\n",
       "    </tr>\n",
       "    <tr>\n",
       "      <th>50%</th>\n",
       "      <td>12.0</td>\n",
       "      <td>82329.0</td>\n",
       "      <td>20283.0</td>\n",
       "      <td>0.0</td>\n",
       "      <td>76159.0</td>\n",
       "      <td>186567.0</td>\n",
       "      <td>0.0</td>\n",
       "      <td>0.0</td>\n",
       "    </tr>\n",
       "    <tr>\n",
       "      <th>75%</th>\n",
       "      <td>14.0</td>\n",
       "      <td>239876.0</td>\n",
       "      <td>205399.0</td>\n",
       "      <td>206475.0</td>\n",
       "      <td>837136.0</td>\n",
       "      <td>1235540.0</td>\n",
       "      <td>0.0</td>\n",
       "      <td>0.0</td>\n",
       "    </tr>\n",
       "    <tr>\n",
       "      <th>max</th>\n",
       "      <td>743.0</td>\n",
       "      <td>10000000.0</td>\n",
       "      <td>59585040.0</td>\n",
       "      <td>49585040.0</td>\n",
       "      <td>236230517.0</td>\n",
       "      <td>236726495.0</td>\n",
       "      <td>1.0</td>\n",
       "      <td>1.0</td>\n",
       "    </tr>\n",
       "  </tbody>\n",
       "</table>\n",
       "</div>"
      ],
      "text/plain": [
       "           step      amount  oldbalanceOrg  newbalanceOrig  oldbalanceDest  \\\n",
       "count  308213.0    308213.0       308213.0        308213.0        308213.0   \n",
       "mean       21.0    210286.0       905867.0        885678.0        966479.0   \n",
       "std        68.0    533240.0      2873460.0       2869250.0       2402137.0   \n",
       "min         1.0         0.0            0.0             0.0             0.0   \n",
       "25%        10.0     13172.0            0.0             0.0             0.0   \n",
       "50%        12.0     82329.0        20283.0             0.0         76159.0   \n",
       "75%        14.0    239876.0       205399.0        206475.0        837136.0   \n",
       "max       743.0  10000000.0     59585040.0      49585040.0     236230517.0   \n",
       "\n",
       "       newbalanceDest   isFraud  isFlaggedFraud  \n",
       "count        308213.0  308213.0        308213.0  \n",
       "mean        1199288.0       0.0             0.0  \n",
       "std         2638063.0       0.0             0.0  \n",
       "min               0.0       0.0             0.0  \n",
       "25%               0.0       0.0             0.0  \n",
       "50%          186567.0       0.0             0.0  \n",
       "75%         1235540.0       0.0             0.0  \n",
       "max       236726495.0       1.0             1.0  "
      ]
     },
     "execution_count": 109,
     "metadata": {},
     "output_type": "execute_result"
    }
   ],
   "source": [
    "df.describe().round()"
   ]
  },
  {
   "cell_type": "code",
   "execution_count": 110,
   "metadata": {},
   "outputs": [
    {
     "data": {
      "text/plain": [
       "step              0\n",
       "type              0\n",
       "amount            0\n",
       "nameOrig          0\n",
       "oldbalanceOrg     0\n",
       "newbalanceOrig    0\n",
       "nameDest          0\n",
       "oldbalanceDest    0\n",
       "newbalanceDest    0\n",
       "isFraud           0\n",
       "isFlaggedFraud    0\n",
       "dtype: int64"
      ]
     },
     "execution_count": 110,
     "metadata": {},
     "output_type": "execute_result"
    }
   ],
   "source": [
    "df.isna().sum()"
   ]
  },
  {
   "cell_type": "code",
   "execution_count": 111,
   "metadata": {},
   "outputs": [
    {
     "data": {
      "text/plain": [
       "step                int64\n",
       "type               object\n",
       "amount            float64\n",
       "nameOrig           object\n",
       "oldbalanceOrg     float64\n",
       "newbalanceOrig    float64\n",
       "nameDest           object\n",
       "oldbalanceDest    float64\n",
       "newbalanceDest    float64\n",
       "isFraud             int64\n",
       "isFlaggedFraud      int64\n",
       "dtype: object"
      ]
     },
     "execution_count": 111,
     "metadata": {},
     "output_type": "execute_result"
    }
   ],
   "source": [
    "df.dtypes"
   ]
  },
  {
   "cell_type": "code",
   "execution_count": 112,
   "metadata": {},
   "outputs": [
    {
     "data": {
      "image/png": "[encoded data removed]",
      "text/plain": [
       "<Figure size 720x576 with 2 Axes>"
      ]
     },
     "metadata": {
      "needs_background": "light"
     },
     "output_type": "display_data"
    }
   ],
   "source": [
    "plt.figure(figsize=(10, 8))\n",
    "sns.heatmap(df.corr(), cmap='YlGnBu', annot=True, fmt='.2f', vmin=-1);"
   ]
  },
  {
   "cell_type": "code",
   "execution_count": 113,
   "metadata": {},
   "outputs": [
    {
     "data": {
      "text/plain": [
       "Int64Index([0, 1], dtype='int64')"
      ]
     },
     "execution_count": 113,
     "metadata": {},
     "output_type": "execute_result"
    }
   ],
   "source": [
    "df.isFraud.value_counts().index"
   ]
  },
  {
   "cell_type": "code",
   "execution_count": 114,
   "metadata": {},
   "outputs": [
    {
     "data": {
      "text/plain": [
       "type\n",
       "CASH_IN        NaN\n",
       "CASH_OUT    4116.0\n",
       "DEBIT          NaN\n",
       "PAYMENT        NaN\n",
       "TRANSFER    4097.0\n",
       "Name: 1, dtype: float64"
      ]
     },
     "execution_count": 114,
     "metadata": {},
     "output_type": "execute_result"
    }
   ],
   "source": [
    "pd.pivot_table(df, index = 'type',columns = 'isFraud',aggfunc ='count')[\"amount\"][1]"
   ]
  },
  {
   "cell_type": "code",
   "execution_count": 115,
   "metadata": {},
   "outputs": [
    {
     "data": {
      "image/png": "[encoded data removed]",
      "text/plain": [
       "<Figure size 1584x864 with 6 Axes>"
      ]
     },
     "metadata": {
      "needs_background": "light"
     },
     "output_type": "display_data"
    }
   ],
   "source": [
    "fig, axes = plt.subplots(3, 2, figsize=(22, 12))\n",
    "ax1 = axes[0, 0].bar(df.groupby(by=\"type\").count()['isFraud'].index, df.groupby(by=\"type\").count()['isFraud'])\n",
    "ax2 = axes[0, 1].barh([\"Not Fraud\", \"Fraud\"], df.isFraud.value_counts())\n",
    "ax3 = axes[1, 0].bar([\"Not Fraud\", \"Fraud\"], df.drop('isFlaggedFraud', axis =1).groupby(by=\"isFraud\").mean()['amount'].round())\n",
    "ax4 = axes[1, 1].bar(pd.pivot_table(df, index = 'type',columns = 'isFraud',aggfunc ='count')[\"amount\"][1].index, pd.pivot_table(df, index = 'type',columns = 'isFraud',aggfunc ='count')[\"amount\"][1])\n",
    "ax5 = axes[2, 0].barh(pd.pivot_table(df, index = 'type',columns = 'isFraud',aggfunc ='count')[\"amount\"][0].index, pd.pivot_table(df, index = 'type',columns = 'isFraud',aggfunc ='count')[\"amount\"][0])\n",
    "# ax4 = axes[2, 1].bar(df['Kidhome'].value_counts().index, df['Kidhome'].value_counts())"
   ]
  },
  {
   "cell_type": "code",
   "execution_count": 116,
   "metadata": {},
   "outputs": [
    {
     "data": {
      "text/plain": [
       "0    300000\n",
       "1      8213\n",
       "Name: isFraud, dtype: int64"
      ]
     },
     "execution_count": 116,
     "metadata": {},
     "output_type": "execute_result"
    }
   ],
   "source": [
    "df['isFraud'].value_counts()"
   ]
  },
  {
   "cell_type": "code",
   "execution_count": 117,
   "metadata": {},
   "outputs": [
    {
     "data": {
      "text/plain": [
       "array([[<AxesSubplot:title={'center':'step'}>,\n",
       "        <AxesSubplot:title={'center':'amount'}>,\n",
       "        <AxesSubplot:title={'center':'oldbalanceOrg'}>],\n",
       "       [<AxesSubplot:title={'center':'newbalanceOrig'}>,\n",
       "        <AxesSubplot:title={'center':'oldbalanceDest'}>,\n",
       "        <AxesSubplot:title={'center':'newbalanceDest'}>],\n",
       "       [<AxesSubplot:title={'center':'isFraud'}>,\n",
       "        <AxesSubplot:title={'center':'isFlaggedFraud'}>, <AxesSubplot:>]],\n",
       "      dtype=object)"
      ]
     },
     "execution_count": 117,
     "metadata": {},
     "output_type": "execute_result"
    },
    {
     "data": {
      "image/png": "[encoded data removed]",
      "text/plain": [
       "<Figure size 1584x864 with 9 Axes>"
      ]
     },
     "metadata": {
      "needs_background": "light"
     },
     "output_type": "display_data"
    }
   ],
   "source": [
    "df.round().hist(figsize=(22,12))"
   ]
  },
  {
   "cell_type": "markdown",
   "metadata": {},
   "source": [
    "### 3.0 Tratamento dos Dados (Pré Processamento)"
   ]
  },
  {
   "cell_type": "markdown",
   "metadata": {},
   "source": [
    "#### 3.1 Tratamento de Outliers"
   ]
  },
  {
   "cell_type": "code",
   "execution_count": 118,
   "metadata": {},
   "outputs": [],
   "source": [
    "# df = df.loc[(df['amount'] <= 218766.0)]\n",
    "# df = df.loc[(df['oldbalanceOrg'] <= 146146.0) ]\n",
    "# df = df.loc[(df['newbalanceOrig'] <= 164497.0)]\n",
    "# df = df.loc[(df['oldbalanceDest'] <= 556569.0)]\n",
    "# df = df.loc[(df['newbalanceDest'] <= 655869.0)]\n",
    "\n",
    "df.loc[:, ['category_amount']] = pd.cut(df[\"amount\"], bins=3, labels = [\"Baixo\", \"Medio\", \"Alto\"])\n",
    "df.loc[:, ['category_oldbalanceOrg']] = pd.cut(df[\"oldbalanceOrg\"], bins=3, labels = [\"Baixo\", \"Medio\", \"Alto\"])\n",
    "df.loc[:, ['category_newbalanceOrig']] = pd.cut(df[\"newbalanceOrig\"], bins=3, labels = [\"Baixo\", \"Medio\", \"Alto\"])\n",
    "df.loc[:, ['category_oldbalanceDest']] = pd.cut(df[\"oldbalanceDest\"], bins=3, labels = [\"Baixo\", \"Medio\", \"Alto\"])\n",
    "df.loc[:, ['category_newbalanceDest']] = pd.cut(df[\"newbalanceDest\"], bins=3, labels = [\"Baixo\", \"Medio\", \"Alto\"])"
   ]
  },
  {
   "cell_type": "code",
   "execution_count": 119,
   "metadata": {},
   "outputs": [
    {
     "data": {
      "text/html": [
       "<div>\n",
       "<style scoped>\n",
       "    .dataframe tbody tr th:only-of-type {\n",
       "        vertical-align: middle;\n",
       "    }\n",
       "\n",
       "    .dataframe tbody tr th {\n",
       "        vertical-align: top;\n",
       "    }\n",
       "\n",
       "    .dataframe thead th {\n",
       "        text-align: right;\n",
       "    }\n",
       "</style>\n",
       "<table border=\"1\" class=\"dataframe\">\n",
       "  <thead>\n",
       "    <tr style=\"text-align: right;\">\n",
       "      <th></th>\n",
       "      <th>step</th>\n",
       "      <th>type</th>\n",
       "      <th>amount</th>\n",
       "      <th>nameOrig</th>\n",
       "      <th>oldbalanceOrg</th>\n",
       "      <th>newbalanceOrig</th>\n",
       "      <th>nameDest</th>\n",
       "      <th>oldbalanceDest</th>\n",
       "      <th>newbalanceDest</th>\n",
       "      <th>isFraud</th>\n",
       "      <th>isFlaggedFraud</th>\n",
       "      <th>category_amount</th>\n",
       "      <th>category_oldbalanceOrg</th>\n",
       "      <th>category_newbalanceOrig</th>\n",
       "      <th>category_oldbalanceDest</th>\n",
       "      <th>category_newbalanceDest</th>\n",
       "    </tr>\n",
       "  </thead>\n",
       "  <tbody>\n",
       "    <tr>\n",
       "      <th>0</th>\n",
       "      <td>1</td>\n",
       "      <td>PAYMENT</td>\n",
       "      <td>9839.64</td>\n",
       "      <td>C1231006815</td>\n",
       "      <td>170136.0</td>\n",
       "      <td>160296.36</td>\n",
       "      <td>M1979787155</td>\n",
       "      <td>0.0</td>\n",
       "      <td>0.0</td>\n",
       "      <td>0</td>\n",
       "      <td>0</td>\n",
       "      <td>Baixo</td>\n",
       "      <td>Baixo</td>\n",
       "      <td>Baixo</td>\n",
       "      <td>Baixo</td>\n",
       "      <td>Baixo</td>\n",
       "    </tr>\n",
       "    <tr>\n",
       "      <th>1</th>\n",
       "      <td>1</td>\n",
       "      <td>PAYMENT</td>\n",
       "      <td>1864.28</td>\n",
       "      <td>C1666544295</td>\n",
       "      <td>21249.0</td>\n",
       "      <td>19384.72</td>\n",
       "      <td>M2044282225</td>\n",
       "      <td>0.0</td>\n",
       "      <td>0.0</td>\n",
       "      <td>0</td>\n",
       "      <td>0</td>\n",
       "      <td>Baixo</td>\n",
       "      <td>Baixo</td>\n",
       "      <td>Baixo</td>\n",
       "      <td>Baixo</td>\n",
       "      <td>Baixo</td>\n",
       "    </tr>\n",
       "    <tr>\n",
       "      <th>2</th>\n",
       "      <td>1</td>\n",
       "      <td>PAYMENT</td>\n",
       "      <td>11668.14</td>\n",
       "      <td>C2048537720</td>\n",
       "      <td>41554.0</td>\n",
       "      <td>29885.86</td>\n",
       "      <td>M1230701703</td>\n",
       "      <td>0.0</td>\n",
       "      <td>0.0</td>\n",
       "      <td>0</td>\n",
       "      <td>0</td>\n",
       "      <td>Baixo</td>\n",
       "      <td>Baixo</td>\n",
       "      <td>Baixo</td>\n",
       "      <td>Baixo</td>\n",
       "      <td>Baixo</td>\n",
       "    </tr>\n",
       "    <tr>\n",
       "      <th>3</th>\n",
       "      <td>1</td>\n",
       "      <td>PAYMENT</td>\n",
       "      <td>7817.71</td>\n",
       "      <td>C90045638</td>\n",
       "      <td>53860.0</td>\n",
       "      <td>46042.29</td>\n",
       "      <td>M573487274</td>\n",
       "      <td>0.0</td>\n",
       "      <td>0.0</td>\n",
       "      <td>0</td>\n",
       "      <td>0</td>\n",
       "      <td>Baixo</td>\n",
       "      <td>Baixo</td>\n",
       "      <td>Baixo</td>\n",
       "      <td>Baixo</td>\n",
       "      <td>Baixo</td>\n",
       "    </tr>\n",
       "    <tr>\n",
       "      <th>4</th>\n",
       "      <td>1</td>\n",
       "      <td>PAYMENT</td>\n",
       "      <td>7107.77</td>\n",
       "      <td>C154988899</td>\n",
       "      <td>183195.0</td>\n",
       "      <td>176087.23</td>\n",
       "      <td>M408069119</td>\n",
       "      <td>0.0</td>\n",
       "      <td>0.0</td>\n",
       "      <td>0</td>\n",
       "      <td>0</td>\n",
       "      <td>Baixo</td>\n",
       "      <td>Baixo</td>\n",
       "      <td>Baixo</td>\n",
       "      <td>Baixo</td>\n",
       "      <td>Baixo</td>\n",
       "    </tr>\n",
       "  </tbody>\n",
       "</table>\n",
       "</div>"
      ],
      "text/plain": [
       "   step     type    amount     nameOrig  oldbalanceOrg  newbalanceOrig  \\\n",
       "0     1  PAYMENT   9839.64  C1231006815       170136.0       160296.36   \n",
       "1     1  PAYMENT   1864.28  C1666544295        21249.0        19384.72   \n",
       "2     1  PAYMENT  11668.14  C2048537720        41554.0        29885.86   \n",
       "3     1  PAYMENT   7817.71    C90045638        53860.0        46042.29   \n",
       "4     1  PAYMENT   7107.77   C154988899       183195.0       176087.23   \n",
       "\n",
       "      nameDest  oldbalanceDest  newbalanceDest  isFraud  isFlaggedFraud  \\\n",
       "0  M1979787155             0.0             0.0        0               0   \n",
       "1  M2044282225             0.0             0.0        0               0   \n",
       "2  M1230701703             0.0             0.0        0               0   \n",
       "3   M573487274             0.0             0.0        0               0   \n",
       "4   M408069119             0.0             0.0        0               0   \n",
       "\n",
       "  category_amount category_oldbalanceOrg category_newbalanceOrig  \\\n",
       "0           Baixo                  Baixo                   Baixo   \n",
       "1           Baixo                  Baixo                   Baixo   \n",
       "2           Baixo                  Baixo                   Baixo   \n",
       "3           Baixo                  Baixo                   Baixo   \n",
       "4           Baixo                  Baixo                   Baixo   \n",
       "\n",
       "  category_oldbalanceDest category_newbalanceDest  \n",
       "0                   Baixo                   Baixo  \n",
       "1                   Baixo                   Baixo  \n",
       "2                   Baixo                   Baixo  \n",
       "3                   Baixo                   Baixo  \n",
       "4                   Baixo                   Baixo  "
      ]
     },
     "execution_count": 119,
     "metadata": {},
     "output_type": "execute_result"
    }
   ],
   "source": [
    "df.head()"
   ]
  },
  {
   "cell_type": "markdown",
   "metadata": {},
   "source": [
    "#### 3.2 Normalizaçao dos dados "
   ]
  },
  {
   "cell_type": "code",
   "execution_count": 120,
   "metadata": {},
   "outputs": [],
   "source": [
    "columns_to_be_normalized = [\"amount\", \"oldbalanceOrg\", \"newbalanceOrig\", \"oldbalanceDest\", \"newbalanceDest\"]\n",
    "df[columns_to_be_normalized] = StandardScaler().fit_transform(df[columns_to_be_normalized])"
   ]
  },
  {
   "cell_type": "markdown",
   "metadata": {},
   "source": [
    "#### 3.3 Excluindo colunas nao necessarias para o treinamento do modelo"
   ]
  },
  {
   "cell_type": "code",
   "execution_count": 121,
   "metadata": {},
   "outputs": [],
   "source": [
    "df = df.drop(['step', 'nameOrig', 'nameDest'], axis = 1)"
   ]
  },
  {
   "cell_type": "markdown",
   "metadata": {},
   "source": [
    "#### 3.4 Transformando campos textos em categoricos"
   ]
  },
  {
   "cell_type": "code",
   "execution_count": 122,
   "metadata": {},
   "outputs": [],
   "source": [
    "df_final = pd.get_dummies(df)"
   ]
  },
  {
   "cell_type": "code",
   "execution_count": 123,
   "metadata": {},
   "outputs": [
    {
     "name": "stdout",
     "output_type": "stream",
     "text": [
      "<class 'pandas.core.frame.DataFrame'>\n",
      "RangeIndex: 308213 entries, 0 to 308212\n",
      "Data columns (total 27 columns):\n",
      " #   Column                         Non-Null Count   Dtype  \n",
      "---  ------                         --------------   -----  \n",
      " 0   amount                         308213 non-null  float64\n",
      " 1   oldbalanceOrg                  308213 non-null  float64\n",
      " 2   newbalanceOrig                 308213 non-null  float64\n",
      " 3   oldbalanceDest                 308213 non-null  float64\n",
      " 4   newbalanceDest                 308213 non-null  float64\n",
      " 5   isFraud                        308213 non-null  int64  \n",
      " 6   isFlaggedFraud                 308213 non-null  int64  \n",
      " 7   type_CASH_IN                   308213 non-null  uint8  \n",
      " 8   type_CASH_OUT                  308213 non-null  uint8  \n",
      " 9   type_DEBIT                     308213 non-null  uint8  \n",
      " 10  type_PAYMENT                   308213 non-null  uint8  \n",
      " 11  type_TRANSFER                  308213 non-null  uint8  \n",
      " 12  category_amount_Baixo          308213 non-null  uint8  \n",
      " 13  category_amount_Medio          308213 non-null  uint8  \n",
      " 14  category_amount_Alto           308213 non-null  uint8  \n",
      " 15  category_oldbalanceOrg_Baixo   308213 non-null  uint8  \n",
      " 16  category_oldbalanceOrg_Medio   308213 non-null  uint8  \n",
      " 17  category_oldbalanceOrg_Alto    308213 non-null  uint8  \n",
      " 18  category_newbalanceOrig_Baixo  308213 non-null  uint8  \n",
      " 19  category_newbalanceOrig_Medio  308213 non-null  uint8  \n",
      " 20  category_newbalanceOrig_Alto   308213 non-null  uint8  \n",
      " 21  category_oldbalanceDest_Baixo  308213 non-null  uint8  \n",
      " 22  category_oldbalanceDest_Medio  308213 non-null  uint8  \n",
      " 23  category_oldbalanceDest_Alto   308213 non-null  uint8  \n",
      " 24  category_newbalanceDest_Baixo  308213 non-null  uint8  \n",
      " 25  category_newbalanceDest_Medio  308213 non-null  uint8  \n",
      " 26  category_newbalanceDest_Alto   308213 non-null  uint8  \n",
      "dtypes: float64(5), int64(2), uint8(20)\n",
      "memory usage: 22.3 MB\n"
     ]
    }
   ],
   "source": [
    "df_final.info()"
   ]
  },
  {
   "cell_type": "code",
   "execution_count": 124,
   "metadata": {},
   "outputs": [],
   "source": [
    "### 4.0 Feature Engineering"
   ]
  },
  {
   "cell_type": "markdown",
   "metadata": {},
   "source": [
    "#### 4.1 Aplicando tecnica de SMOTE para balanceamento do dataset"
   ]
  },
  {
   "cell_type": "code",
   "execution_count": 125,
   "metadata": {},
   "outputs": [],
   "source": [
    "X = df_final.drop('isFraud', axis=1)\n",
    "y = df_final['isFraud']"
   ]
  },
  {
   "cell_type": "code",
   "execution_count": 126,
   "metadata": {},
   "outputs": [
    {
     "data": {
      "text/plain": [
       "0    300000\n",
       "1      8213\n",
       "Name: isFraud, dtype: int64"
      ]
     },
     "execution_count": 126,
     "metadata": {},
     "output_type": "execute_result"
    }
   ],
   "source": [
    "y.value_counts()"
   ]
  },
  {
   "cell_type": "code",
   "execution_count": 127,
   "metadata": {},
   "outputs": [],
   "source": [
    "# oversample = SMOTE()\n",
    "# X, y = oversample.fit_resample(X, y)\n",
    "X_train, X_test, y_train, y_test = train_test_split(X, y, test_size=0.33, random_state=42)"
   ]
  },
  {
   "cell_type": "code",
   "execution_count": 128,
   "metadata": {},
   "outputs": [
    {
     "data": {
      "text/plain": [
       "0    200982\n",
       "1      5520\n",
       "Name: isFraud, dtype: int64"
      ]
     },
     "execution_count": 128,
     "metadata": {},
     "output_type": "execute_result"
    }
   ],
   "source": [
    "y_train.value_counts()"
   ]
  },
  {
   "cell_type": "code",
   "execution_count": 129,
   "metadata": {},
   "outputs": [
    {
     "data": {
      "text/plain": [
       "0    99018\n",
       "1     2693\n",
       "Name: isFraud, dtype: int64"
      ]
     },
     "execution_count": 129,
     "metadata": {},
     "output_type": "execute_result"
    }
   ],
   "source": [
    "y_test.value_counts()"
   ]
  },
  {
   "cell_type": "markdown",
   "metadata": {},
   "source": [
    "### 5.0 Seleçao de Atributos"
   ]
  },
  {
   "cell_type": "markdown",
   "metadata": {},
   "source": [
    "#### 5.1 Random Forest"
   ]
  },
  {
   "cell_type": "code",
   "execution_count": 132,
   "metadata": {},
   "outputs": [
    {
     "name": "stdout",
     "output_type": "stream",
     "text": [
      "Wall time: 15.3 s\n"
     ]
    },
    {
     "data": {
      "text/plain": [
       "RandomForestClassifier(random_state=42)"
      ]
     },
     "execution_count": 132,
     "metadata": {},
     "output_type": "execute_result"
    }
   ],
   "source": [
    "%%time\n",
    "rf = RandomForestClassifier(random_state = 42)\n",
    "rf.fit(X_train, y_train)"
   ]
  },
  {
   "cell_type": "code",
   "execution_count": 133,
   "metadata": {},
   "outputs": [
    {
     "name": "stdout",
     "output_type": "stream",
     "text": [
      "              precision    recall  f1-score   support\n",
      "\n",
      "           0       1.00      1.00      1.00     99018\n",
      "           1       0.96      0.93      0.94      2693\n",
      "\n",
      "    accuracy                           1.00    101711\n",
      "   macro avg       0.98      0.96      0.97    101711\n",
      "weighted avg       1.00      1.00      1.00    101711\n",
      "\n"
     ]
    }
   ],
   "source": [
    "y_pred = rf.predict(X_test)\n",
    "print(metrics.classification_report(y_test, y_pred))"
   ]
  },
  {
   "cell_type": "code",
   "execution_count": 163,
   "metadata": {},
   "outputs": [
    {
     "data": {
      "image/png": "[encoded data removed]",
      "text/plain": [
       "<Figure size 1008x720 with 1 Axes>"
      ]
     },
     "metadata": {
      "needs_background": "light"
     },
     "output_type": "display_data"
    }
   ],
   "source": [
    "f_i = list(zip(X_train.columns,rf.feature_importances_))\n",
    "f_i.sort(key = lambda x : x[1])\n",
    "\n",
    "plt.figure(figsize=(14,10))\n",
    "plt.barh([x[0] for x in f_i],[x[1] for x in f_i])\n",
    "\n",
    "plt.show()"
   ]
  },
  {
   "cell_type": "code",
   "execution_count": 135,
   "metadata": {},
   "outputs": [],
   "source": [
    "best_features = [\"oldbalanceOrg\", \"amount\", \"newbalanceDest\", \"oldbalanceDest\", \"type_TRANSFER\", \"newbalanceOrig\", \n",
    "                     \"category_amount_Baixo\", \"type_CASH_OUT\", \"category_amount_Alto\", \"type_PAYMENT\", \"category_amount_Medio\", \"type_CASH_IN\"]"
   ]
  },
  {
   "cell_type": "markdown",
   "metadata": {},
   "source": [
    "### 6.0 Treinamento do modelo preditivo"
   ]
  },
  {
   "cell_type": "code",
   "execution_count": 152,
   "metadata": {},
   "outputs": [],
   "source": [
    "X = df_final[best_features]\n",
    "y = df_final['isFraud']"
   ]
  },
  {
   "cell_type": "code",
   "execution_count": 153,
   "metadata": {},
   "outputs": [],
   "source": [
    "models = [\n",
    "    (\"Random_Forest\", RandomForestClassifier(random_state=42)),\n",
    "    (\"Decision_Tree\", DecisionTreeClassifier()),\n",
    "    (\"Naive_Bayes\", GaussianNB()),\n",
    "    (\"Logistic_Regression\", LogisticRegression(max_iter=1000, random_state =0 ))\n",
    "]"
   ]
  },
  {
   "cell_type": "code",
   "execution_count": 154,
   "metadata": {},
   "outputs": [
    {
     "name": "stdout",
     "output_type": "stream",
     "text": [
      "Treinando Random_Forest...\n",
      "Treinando Decision_Tree...\n",
      "Treinando Naive_Bayes...\n",
      "Treinando Logistic_Regression...\n",
      "Wall time: 21.4 s\n"
     ]
    }
   ],
   "source": [
    "%%time\n",
    "\n",
    "trained_models = []\n",
    "results = {'modelo': [], 'acuracia': [], 'precisao': [], 'recall': []}\n",
    "\n",
    "for name, model in models:\n",
    "    print(f\"Treinando {name}...\")\n",
    "    model.fit(X_train, y_train)\n",
    "    y_pred = model.predict(X_test)\n",
    "    \n",
    "    \n",
    "    trained_models.append((name, model, metrics.accuracy_score(y_test, y_pred)))\n",
    "    results['modelo'].append(name)\n",
    "    results['acuracia'].append(metrics.accuracy_score(y_test, y_pred))\n",
    "    results['precisao'].append(metrics.precision_score(y_test, y_pred))\n",
    "    results['recall'].append(metrics.recall_score(y_test, y_pred, average='macro'))"
   ]
  },
  {
   "cell_type": "code",
   "execution_count": 155,
   "metadata": {},
   "outputs": [
    {
     "data": {
      "text/html": [
       "<div>\n",
       "<style scoped>\n",
       "    .dataframe tbody tr th:only-of-type {\n",
       "        vertical-align: middle;\n",
       "    }\n",
       "\n",
       "    .dataframe tbody tr th {\n",
       "        vertical-align: top;\n",
       "    }\n",
       "\n",
       "    .dataframe thead th {\n",
       "        text-align: right;\n",
       "    }\n",
       "</style>\n",
       "<table border=\"1\" class=\"dataframe\">\n",
       "  <thead>\n",
       "    <tr style=\"text-align: right;\">\n",
       "      <th></th>\n",
       "      <th>modelo</th>\n",
       "      <th>acuracia</th>\n",
       "      <th>precisao</th>\n",
       "      <th>recall</th>\n",
       "    </tr>\n",
       "  </thead>\n",
       "  <tbody>\n",
       "    <tr>\n",
       "      <th>0</th>\n",
       "      <td>Random_Forest</td>\n",
       "      <td>0.997119</td>\n",
       "      <td>0.960123</td>\n",
       "      <td>0.964384</td>\n",
       "    </tr>\n",
       "    <tr>\n",
       "      <th>1</th>\n",
       "      <td>Decision_Tree</td>\n",
       "      <td>0.997680</td>\n",
       "      <td>0.951821</td>\n",
       "      <td>0.979844</td>\n",
       "    </tr>\n",
       "    <tr>\n",
       "      <th>2</th>\n",
       "      <td>Naive_Bayes</td>\n",
       "      <td>0.957507</td>\n",
       "      <td>0.252807</td>\n",
       "      <td>0.642228</td>\n",
       "    </tr>\n",
       "    <tr>\n",
       "      <th>3</th>\n",
       "      <td>Logistic_Regression</td>\n",
       "      <td>0.985793</td>\n",
       "      <td>0.916555</td>\n",
       "      <td>0.754289</td>\n",
       "    </tr>\n",
       "  </tbody>\n",
       "</table>\n",
       "</div>"
      ],
      "text/plain": [
       "                modelo  acuracia  precisao    recall\n",
       "0        Random_Forest  0.997119  0.960123  0.964384\n",
       "1        Decision_Tree  0.997680  0.951821  0.979844\n",
       "2          Naive_Bayes  0.957507  0.252807  0.642228\n",
       "3  Logistic_Regression  0.985793  0.916555  0.754289"
      ]
     },
     "execution_count": 155,
     "metadata": {},
     "output_type": "execute_result"
    }
   ],
   "source": [
    "df_results = pd.DataFrame(data=results)\n",
    "df_results"
   ]
  },
  {
   "cell_type": "markdown",
   "metadata": {},
   "source": [
    "### 7.0 Validação e avaliação do modelo"
   ]
  },
  {
   "cell_type": "code",
   "execution_count": 156,
   "metadata": {},
   "outputs": [
    {
     "data": {
      "text/plain": [
       "<AxesSubplot:xlabel='modelo'>"
      ]
     },
     "execution_count": 156,
     "metadata": {},
     "output_type": "execute_result"
    },
    {
     "data": {
      "image/png": "[encoded data removed]",
      "text/plain": [
       "<Figure size 720x432 with 1 Axes>"
      ]
     },
     "metadata": {
      "needs_background": "light"
     },
     "output_type": "display_data"
    }
   ],
   "source": [
    "df_results.plot.bar(x=\"modelo\", rot=0, figsize=(10,6))"
   ]
  },
  {
   "cell_type": "markdown",
   "metadata": {},
   "source": [
    "### 8.0 Exportação do modelo"
   ]
  },
  {
   "cell_type": "code",
   "execution_count": 157,
   "metadata": {},
   "outputs": [],
   "source": [
    "for model in trained_models:\n",
    "    filename = f'../models/{model[0]}_{datetime.now().strftime(\"%Y-%m-%d\")}.sav'\n",
    "    pickle.dump(model, open(filename, 'wb'))"
   ]
  }
 ],
 "metadata": {
  "kernelspec": {
   "display_name": "Python 3",
   "language": "python",
   "name": "python3"
  },
  "language_info": {
   "codemirror_mode": {
    "name": "ipython",
    "version": 3
   },
   "file_extension": ".py",
   "mimetype": "text/x-python",
   "name": "python",
   "nbconvert_exporter": "python",
   "pygments_lexer": "ipython3",
   "version": "3.8.5"
  }
 },
 "nbformat": 4,
 "nbformat_minor": 4
}
